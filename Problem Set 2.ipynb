{
 "cells": [
  {
   "cell_type": "markdown",
   "id": "60dc268c",
   "metadata": {},
   "source": [
    "# BDAT1004 Problem Set 1"
   ]
  },
  {
   "cell_type": "markdown",
   "id": "48ffdbbd",
   "metadata": {},
   "source": [
    "### Question 1"
   ]
  },
  {
   "cell_type": "code",
   "execution_count": 359,
   "id": "5005470f",
   "metadata": {},
   "outputs": [
    {
     "data": {
      "text/plain": [
       "6"
      ]
     },
     "execution_count": 359,
     "metadata": {},
     "output_type": "execute_result"
    }
   ],
   "source": [
    "a = 0\n",
    "\n",
    "def b():\n",
    "    global a\n",
    "    a = c(a)\n",
    "    \n",
    "def c(a):\n",
    "    return a + 2\n",
    "\n",
    "b()\n",
    "b()\n",
    "b()\n",
    "a"
   ]
  },
  {
   "cell_type": "markdown",
   "id": "66b35ce5",
   "metadata": {},
   "source": [
    "When the expression 'a' is evaluated, value '6' is displayed.\n",
    "\n",
    "Each time when function 'b()' is called, the indented code block is executed. The code 'a = c(a)' refers to another function 'c(a)' which returns a value of 'a + 2'. It is important to note that function 'c(a)' takes the value of 'a' given by function 'b()' because 'a' is defined as a global variable inside the function. If 'a' was not declared global variable, 'c(a)' would have taken 'a=0' each time.\n",
    "\n",
    "When 'b()' is called for the first time, '2' is added to the value of 'a' which is initially '0'. Now the value of 'a' becomes '2'.\n",
    "\n",
    "When 'b()' is called for the second time, '2' is added to the value of 'a' which is now '2'. Now the value of 'a' becomes '4'.\n",
    "\n",
    "When 'b()' is called for the third time, '2' is again added to the value of 'a' which is now '4'. Now the value of 'a' becomes '6'.\n",
    "\n",
    "Though the three 'b()' functions modifies the value of 'a', they do not print/return any value because no print/return command is written inside the function 'b()'\n",
    "\n",
    "Finally, when 'a' is called, the final value, i.e., '6' is printed."
   ]
  },
  {
   "cell_type": "markdown",
   "id": "86fafe64",
   "metadata": {},
   "source": [
    "### Question 2"
   ]
  },
  {
   "cell_type": "code",
   "execution_count": 360,
   "id": "c259a8c9",
   "metadata": {},
   "outputs": [],
   "source": [
    "def fileLength(FileName):\n",
    "    try:\n",
    "        File = open(FileName)\n",
    "        FileContent = File.read()\n",
    "        print(len(FileContent))\n",
    "    except FileNotFoundError:\n",
    "        print(\"File '{}' not found! \\nPlease check whether you have entered the correct file name\".format(FileName))"
   ]
  },
  {
   "cell_type": "code",
   "execution_count": 361,
   "id": "18bab1cc",
   "metadata": {},
   "outputs": [
    {
     "name": "stdout",
     "output_type": "stream",
     "text": [
      "123\n"
     ]
    }
   ],
   "source": [
    "fileLength(\"Filelength.txt\")"
   ]
  },
  {
   "cell_type": "code",
   "execution_count": 362,
   "id": "358ab7d1",
   "metadata": {},
   "outputs": [
    {
     "name": "stdout",
     "output_type": "stream",
     "text": [
      "File 'ilelength.txt' not found! \n",
      "Please check whether you have entered the correct file name\n"
     ]
    }
   ],
   "source": [
    "fileLength(\"ilelength.txt\")"
   ]
  },
  {
   "cell_type": "markdown",
   "id": "b9947e88",
   "metadata": {},
   "source": [
    "### Question 3"
   ]
  },
  {
   "cell_type": "code",
   "execution_count": 363,
   "id": "a217fea4",
   "metadata": {},
   "outputs": [],
   "source": [
    "class Marsupial:\n",
    "    \n",
    "    def __init__(self):\n",
    "        self.MarsupialList = []\n",
    "\n",
    "    def put_in_pouch(self, animal):\n",
    "        self.MarsupialList.append(animal)\n",
    "\n",
    "    def pouch_contents(self):\n",
    "        return(self.MarsupialList)"
   ]
  },
  {
   "cell_type": "code",
   "execution_count": 364,
   "id": "3a49c9c5",
   "metadata": {},
   "outputs": [
    {
     "data": {
      "text/plain": [
       "['doll', 'firetruck', 'kitten']"
      ]
     },
     "execution_count": 364,
     "metadata": {},
     "output_type": "execute_result"
    }
   ],
   "source": [
    "m = Marsupial()\n",
    "m.put_in_pouch('doll')\n",
    "m.put_in_pouch('firetruck')\n",
    "m.put_in_pouch('kitten')\n",
    "m.pouch_contents()"
   ]
  },
  {
   "cell_type": "code",
   "execution_count": 365,
   "id": "058c0fd9",
   "metadata": {},
   "outputs": [],
   "source": [
    "class Kangaroo(Marsupial):\n",
    "    \n",
    "    def __init__(self, x, y):\n",
    "        Marsupial.__init__(self)\n",
    "        self.xCord = x\n",
    "        self.yCord = y\n",
    "        \n",
    "    def jump(self, dx, dy):\n",
    "        self.xCord += dx\n",
    "        self.yCord += dy\n",
    "        \n",
    "    def __str__(self):\n",
    "        return 'I am a Kangaroo located at coordinates {},{}'.format(self.xCord,self.yCord)"
   ]
  },
  {
   "cell_type": "code",
   "execution_count": 366,
   "id": "abcfbb16",
   "metadata": {},
   "outputs": [
    {
     "name": "stdout",
     "output_type": "stream",
     "text": [
      "I am a Kangaroo located at coordinates 0,0\n"
     ]
    }
   ],
   "source": [
    "k = Kangaroo(0,0) \n",
    "print(k)"
   ]
  },
  {
   "cell_type": "code",
   "execution_count": 367,
   "id": "ad7cb58f",
   "metadata": {},
   "outputs": [
    {
     "data": {
      "text/plain": [
       "['doll', 'firetruck', 'kitten']"
      ]
     },
     "execution_count": 367,
     "metadata": {},
     "output_type": "execute_result"
    }
   ],
   "source": [
    "k.put_in_pouch('doll')\n",
    "k.put_in_pouch('firetruck') \n",
    "k.put_in_pouch('kitten') \n",
    "k.pouch_contents() "
   ]
  },
  {
   "cell_type": "code",
   "execution_count": 368,
   "id": "72bb26ac",
   "metadata": {},
   "outputs": [
    {
     "name": "stdout",
     "output_type": "stream",
     "text": [
      "I am a Kangaroo located at coordinates 3,0\n"
     ]
    }
   ],
   "source": [
    "k.jump(1,0)\n",
    "k.jump(1,0)\n",
    "k.jump(1,0)\n",
    "print(k)"
   ]
  },
  {
   "cell_type": "markdown",
   "id": "a8acd1a7",
   "metadata": {},
   "source": [
    "### Question 4"
   ]
  },
  {
   "cell_type": "code",
   "execution_count": 369,
   "id": "f9c511c5",
   "metadata": {},
   "outputs": [],
   "source": [
    "def collatz(x):       \n",
    "    if x > 1:\n",
    "        print(x)\n",
    "        if x % 2 == 0:\n",
    "            x = x//2\n",
    "        else:\n",
    "            x = (3*x) + 1\n",
    "        collatz(x)\n",
    "    else:\n",
    "        print(x)"
   ]
  },
  {
   "cell_type": "code",
   "execution_count": 370,
   "id": "8e5c1199",
   "metadata": {},
   "outputs": [
    {
     "name": "stdout",
     "output_type": "stream",
     "text": [
      "1\n"
     ]
    }
   ],
   "source": [
    "collatz(1)"
   ]
  },
  {
   "cell_type": "code",
   "execution_count": 371,
   "id": "611d18f5",
   "metadata": {},
   "outputs": [
    {
     "name": "stdout",
     "output_type": "stream",
     "text": [
      "10\n",
      "5\n",
      "16\n",
      "8\n",
      "4\n",
      "2\n",
      "1\n"
     ]
    }
   ],
   "source": [
    "collatz(10)"
   ]
  },
  {
   "cell_type": "markdown",
   "id": "09767ef4",
   "metadata": {},
   "source": [
    "### Question 5"
   ]
  },
  {
   "cell_type": "code",
   "execution_count": 372,
   "id": "8a6c6e67",
   "metadata": {},
   "outputs": [],
   "source": [
    "def binary(number):\n",
    "    if number < 1:\n",
    "        print(0)\n",
    "    elif (number == 1):\n",
    "        print(1, end = '')\n",
    "    else:\n",
    "        binary(number//2)\n",
    "        print(number % 2, end = '')  \n",
    "    "
   ]
  },
  {
   "cell_type": "code",
   "execution_count": 373,
   "id": "18881ddb",
   "metadata": {},
   "outputs": [
    {
     "name": "stdout",
     "output_type": "stream",
     "text": [
      "0\n"
     ]
    }
   ],
   "source": [
    "binary(0)"
   ]
  },
  {
   "cell_type": "code",
   "execution_count": 374,
   "id": "797aa189",
   "metadata": {},
   "outputs": [
    {
     "name": "stdout",
     "output_type": "stream",
     "text": [
      "1"
     ]
    }
   ],
   "source": [
    "binary(1)"
   ]
  },
  {
   "cell_type": "code",
   "execution_count": 375,
   "id": "194ccea3",
   "metadata": {},
   "outputs": [
    {
     "name": "stdout",
     "output_type": "stream",
     "text": [
      "11"
     ]
    }
   ],
   "source": [
    "binary(3)"
   ]
  },
  {
   "cell_type": "code",
   "execution_count": 376,
   "id": "65a3ada5",
   "metadata": {},
   "outputs": [
    {
     "name": "stdout",
     "output_type": "stream",
     "text": [
      "1001"
     ]
    }
   ],
   "source": [
    "binary(9)"
   ]
  },
  {
   "cell_type": "markdown",
   "id": "5187271d",
   "metadata": {},
   "source": [
    "### Question 6"
   ]
  },
  {
   "cell_type": "code",
   "execution_count": 377,
   "id": "b95d8771",
   "metadata": {},
   "outputs": [],
   "source": [
    "import re\n",
    "from html.parser import HTMLParser\n",
    "class HeadingParser(HTMLParser):\n",
    "\n",
    "    def handle_data(self, data):\n",
    "        if re.findall('h\\d',str(self._HTMLParser__starttag_text)):\n",
    "        #if self._HTMLParser__starttag_text  == 'h1' or 'h2':\n",
    "            print(data, end='')               "
   ]
  },
  {
   "cell_type": "code",
   "execution_count": 378,
   "id": "14000c05",
   "metadata": {},
   "outputs": [
    {
     "name": "stdout",
     "output_type": "stream",
     "text": [
      "W3C Mission\n",
      "\tPrinciples\n",
      " \n",
      "\n",
      "\n",
      "\n"
     ]
    }
   ],
   "source": [
    "infile = open('w3c.html')\n",
    "content = infile.read()\n",
    "infile.close()\n",
    "hp = HeadingParser()\n",
    "hp.feed(content)"
   ]
  },
  {
   "cell_type": "markdown",
   "id": "e69d28a2",
   "metadata": {},
   "source": [
    "### Question 7"
   ]
  },
  {
   "cell_type": "code",
   "execution_count": 379,
   "id": "ae5ba9eb",
   "metadata": {},
   "outputs": [],
   "source": [
    "from urllib.request import urlopen\n",
    "from urllib.parse import urljoin\n",
    "from html.parser import HTMLParser\n",
    "\n",
    "class hyperlinks(HTMLParser):\n",
    "\n",
    "    def __init__(self, url):\n",
    "        HTMLParser.__init__(self)\n",
    "        self.url = url\n",
    "        self.links = []\n",
    "\n",
    "    \n",
    "    def handle_starttag(self, tag, attrs):\n",
    "        if tag == 'a':\n",
    "            for attr in attrs:\n",
    "                if attr[0] == 'href':\n",
    "                    AbsoluteURL = urljoin(self.url, attr[1])\n",
    "                    if AbsoluteURL[:4] == 'http':\n",
    "                        self.links.append(AbsoluteURL)\n",
    "                        \n",
    "                        \n",
    "    def getLinks(self):\n",
    "        return self.links\n",
    "    \n",
    "def webdir(url, depth, indent):\n",
    "    for j in range (indent):\n",
    "         print('\\t',end='')\n",
    "    print(url)\n",
    "    content = urlopen(url).read().decode()\n",
    "    collector = hyperlinks(url)\n",
    "    collector.feed(content)\n",
    "    urls = collector.getLinks()\n",
    "        \n",
    "    for i in range (depth):\n",
    "        webdir(urls[i], depth-1, indent+1)"
   ]
  },
  {
   "cell_type": "code",
   "execution_count": 380,
   "id": "a70e2f36",
   "metadata": {},
   "outputs": [
    {
     "name": "stdout",
     "output_type": "stream",
     "text": [
      "http://reed.cs.depaul.edu/lperkovic/test1.html\n",
      "\thttp://reed.cs.depaul.edu/lperkovic/test2.html\n",
      "\t\thttp://reed.cs.depaul.edu/lperkovic/test4.html\n",
      "\thttp://reed.cs.depaul.edu/lperkovic/test3.html\n",
      "\t\thttp://reed.cs.depaul.edu/lperkovic/test4.html\n"
     ]
    }
   ],
   "source": [
    "webdir('http://reed.cs.depaul.edu/lperkovic/test1.html', 2, 0)"
   ]
  },
  {
   "cell_type": "markdown",
   "id": "67397fdb",
   "metadata": {},
   "source": [
    "### Question 8"
   ]
  },
  {
   "cell_type": "code",
   "execution_count": 381,
   "id": "598a33f3",
   "metadata": {},
   "outputs": [],
   "source": [
    "import sqlite3\n",
    "con = sqlite3.connect('Weather.db')\n",
    "cur = con.cursor()\n",
    "cur.execute(\"CREATE TABLE WeatherInfo (City TEXT, Country TEXT, Season TEXT, Temperature REAL, Rainfall REAL)\")\n",
    "cur.execute(\"INSERT INTO WeatherInfo VALUES ('Mumbai','India','Winter',24.8,5.9),('Mumbai','India','Spring',28.4,16.2),('Mumbai','India','Summer',27.9,1549.4),('Mumbai','India','Fall',27.6,346),('London','United Kingdom','Winter',4.2,207.7),('London','United Kingdom','Spring',8.3,169.6),('London','United Kingdom','Summer',15.7,157),('London','United Kingdom','Fall',10.4,218.5),('Cairo','Egypt','Winter',13.6,16.5),('Cairo','Egypt','Spring',20.7,6.5),('Cairo','Egypt','Summer',27.7,0.1),('Cairo','Egypt','Fall',22.2,4.5)\")\n",
    "con.commit()"
   ]
  },
  {
   "cell_type": "markdown",
   "id": "e19ede11",
   "metadata": {},
   "source": [
    "#### Question 8a"
   ]
  },
  {
   "cell_type": "code",
   "execution_count": 382,
   "id": "d71a1a02",
   "metadata": {},
   "outputs": [
    {
     "data": {
      "text/plain": [
       "[(24.8,),\n",
       " (28.4,),\n",
       " (27.9,),\n",
       " (27.6,),\n",
       " (4.2,),\n",
       " (8.3,),\n",
       " (15.7,),\n",
       " (10.4,),\n",
       " (13.6,),\n",
       " (20.7,),\n",
       " (27.7,),\n",
       " (22.2,)]"
      ]
     },
     "execution_count": 382,
     "metadata": {},
     "output_type": "execute_result"
    }
   ],
   "source": [
    "cur.execute(\"SELECT Temperature FROM WeatherInfo\")\n",
    "cur.fetchall()"
   ]
  },
  {
   "cell_type": "markdown",
   "id": "51baae93",
   "metadata": {},
   "source": [
    "#### Question 8b"
   ]
  },
  {
   "cell_type": "code",
   "execution_count": 383,
   "id": "5cfcfda1",
   "metadata": {},
   "outputs": [
    {
     "data": {
      "text/plain": [
       "[('Mumbai',), ('London',), ('Cairo',)]"
      ]
     },
     "execution_count": 383,
     "metadata": {},
     "output_type": "execute_result"
    }
   ],
   "source": [
    "cur.execute(\"SELECT DISTINCT City FROM WeatherInfo\")\n",
    "cur.fetchall()"
   ]
  },
  {
   "cell_type": "markdown",
   "id": "dcac4113",
   "metadata": {},
   "source": [
    "#### Question 8c"
   ]
  },
  {
   "cell_type": "code",
   "execution_count": 384,
   "id": "5a1fd8b7",
   "metadata": {},
   "outputs": [
    {
     "data": {
      "text/plain": [
       "[('Mumbai', 'India', 'Winter', 24.8, 5.9),\n",
       " ('Mumbai', 'India', 'Spring', 28.4, 16.2),\n",
       " ('Mumbai', 'India', 'Summer', 27.9, 1549.4),\n",
       " ('Mumbai', 'India', 'Fall', 27.6, 346.0)]"
      ]
     },
     "execution_count": 384,
     "metadata": {},
     "output_type": "execute_result"
    }
   ],
   "source": [
    "cur.execute(\"SELECT * FROM WeatherInfo WHERE Country == 'India'\")\n",
    "cur.fetchall()"
   ]
  },
  {
   "cell_type": "markdown",
   "id": "5901ccdb",
   "metadata": {},
   "source": [
    "#### Question 8d"
   ]
  },
  {
   "cell_type": "code",
   "execution_count": 385,
   "id": "99cbbf1b",
   "metadata": {},
   "outputs": [
    {
     "data": {
      "text/plain": [
       "[('Mumbai', 'India', 'Fall', 27.6, 346.0),\n",
       " ('London', 'United Kingdom', 'Fall', 10.4, 218.5),\n",
       " ('Cairo', 'Egypt', 'Fall', 22.2, 4.5)]"
      ]
     },
     "execution_count": 385,
     "metadata": {},
     "output_type": "execute_result"
    }
   ],
   "source": [
    "cur.execute(\"SELECT * FROM WeatherInfo WHERE Season == 'Fall'\")\n",
    "cur.fetchall()"
   ]
  },
  {
   "cell_type": "markdown",
   "id": "e83b2357",
   "metadata": {},
   "source": [
    "#### Question 8e"
   ]
  },
  {
   "cell_type": "code",
   "execution_count": 386,
   "id": "f92be985",
   "metadata": {},
   "outputs": [
    {
     "data": {
      "text/plain": [
       "[('Mumbai', 'India', 'Fall'),\n",
       " ('London', 'United Kingdom', 'Winter'),\n",
       " ('London', 'United Kingdom', 'Fall')]"
      ]
     },
     "execution_count": 386,
     "metadata": {},
     "output_type": "execute_result"
    }
   ],
   "source": [
    "cur.execute(\"SELECT City, Country, Season FROM WeatherInfo WHERE Rainfall BETWEEN 200 AND 400\")\n",
    "cur.fetchall()"
   ]
  },
  {
   "cell_type": "markdown",
   "id": "e881bda6",
   "metadata": {},
   "source": [
    "#### Question 8f"
   ]
  },
  {
   "cell_type": "code",
   "execution_count": 388,
   "id": "465fa342",
   "metadata": {},
   "outputs": [
    {
     "data": {
      "text/plain": [
       "[('Cairo', 'Egypt'), ('Mumbai', 'India')]"
      ]
     },
     "execution_count": 388,
     "metadata": {},
     "output_type": "execute_result"
    }
   ],
   "source": [
    "cur.execute(\"SELECT City, Country FROM WeatherInfo WHERE Temperature > 20 AND Season == 'Fall' ORDER BY Temperature ASC\")\n",
    "cur.fetchall()"
   ]
  },
  {
   "cell_type": "markdown",
   "id": "edc220d4",
   "metadata": {},
   "source": [
    "#### Question 8g"
   ]
  },
  {
   "cell_type": "code",
   "execution_count": 389,
   "id": "524cca5e",
   "metadata": {},
   "outputs": [
    {
     "data": {
      "text/plain": [
       "[(27.6,)]"
      ]
     },
     "execution_count": 389,
     "metadata": {},
     "output_type": "execute_result"
    }
   ],
   "source": [
    "cur.execute(\"SELECT SUM(Rainfall) FROM WeatherInfo WHERE City == 'Cairo'\")\n",
    "cur.fetchall()"
   ]
  },
  {
   "cell_type": "markdown",
   "id": "8b9c9ed3",
   "metadata": {},
   "source": [
    "#### Question 8h"
   ]
  },
  {
   "cell_type": "code",
   "execution_count": 390,
   "id": "d5834e70",
   "metadata": {},
   "outputs": [
    {
     "data": {
      "text/plain": [
       "[('Fall', 569.0),\n",
       " ('Spring', 192.29999999999998),\n",
       " ('Summer', 1706.5),\n",
       " ('Winter', 230.1)]"
      ]
     },
     "execution_count": 390,
     "metadata": {},
     "output_type": "execute_result"
    }
   ],
   "source": [
    "cur.execute(\"SELECT Season, SUM(Rainfall) FROM WeatherInfo GROUP BY Season\")\n",
    "cur.fetchall()"
   ]
  },
  {
   "cell_type": "markdown",
   "id": "b3009ba1",
   "metadata": {},
   "source": [
    "### Question 9"
   ]
  },
  {
   "cell_type": "code",
   "execution_count": 392,
   "id": "147e5cb8",
   "metadata": {},
   "outputs": [],
   "source": [
    "words = ['The', 'quick', 'brown', 'fox', 'jumps', 'over', 'the', 'lazy', 'dog']"
   ]
  },
  {
   "cell_type": "markdown",
   "id": "61915a74",
   "metadata": {},
   "source": [
    "#### Question 9a"
   ]
  },
  {
   "cell_type": "code",
   "execution_count": 393,
   "id": "cccbf1e8",
   "metadata": {},
   "outputs": [
    {
     "data": {
      "text/plain": [
       "['THE', 'QUICK', 'BROWN', 'FOX', 'JUMPS', 'OVER', 'THE', 'LAZY', 'DOG']"
      ]
     },
     "execution_count": 393,
     "metadata": {},
     "output_type": "execute_result"
    }
   ],
   "source": [
    "upperWords = [word.upper() for word in words]\n",
    "upperWords"
   ]
  },
  {
   "cell_type": "markdown",
   "id": "2a74af50",
   "metadata": {},
   "source": [
    "#### Question 9b"
   ]
  },
  {
   "cell_type": "code",
   "execution_count": 394,
   "id": "ecb1f706",
   "metadata": {},
   "outputs": [
    {
     "data": {
      "text/plain": [
       "['the', 'quick', 'brown', 'fox', 'jumps', 'over', 'the', 'lazy', 'dog']"
      ]
     },
     "execution_count": 394,
     "metadata": {},
     "output_type": "execute_result"
    }
   ],
   "source": [
    "lowerWords = [word.lower() for word in words]\n",
    "lowerWords"
   ]
  },
  {
   "cell_type": "markdown",
   "id": "0f4645ad",
   "metadata": {},
   "source": [
    "#### Question 9c"
   ]
  },
  {
   "cell_type": "code",
   "execution_count": 395,
   "id": "8aec3e03",
   "metadata": {},
   "outputs": [
    {
     "data": {
      "text/plain": [
       "[3, 5, 5, 3, 5, 4, 3, 4, 3]"
      ]
     },
     "execution_count": 395,
     "metadata": {},
     "output_type": "execute_result"
    }
   ],
   "source": [
    "lengthWords = [len(word) for word in words]\n",
    "lengthWords"
   ]
  },
  {
   "cell_type": "markdown",
   "id": "cddfeddc",
   "metadata": {},
   "source": [
    "#### Question 9d"
   ]
  },
  {
   "cell_type": "code",
   "execution_count": 396,
   "id": "91781ac9",
   "metadata": {},
   "outputs": [
    {
     "name": "stdout",
     "output_type": "stream",
     "text": [
      "[['THE', 'the', 3], ['QUICK', 'quick', 5], ['BROWN', 'brown', 5], ['FOX', 'fox', 3], ['JUMPS', 'jumps', 5], ['OVER', 'over', 4], ['THE', 'the', 3], ['LAZY', 'lazy', 4], ['DOG', 'dog', 3]]\n"
     ]
    }
   ],
   "source": [
    "listWords = [[word.upper(), word.lower(), len(word)] for word in words]\n",
    "print(listWords)"
   ]
  },
  {
   "cell_type": "markdown",
   "id": "06095686",
   "metadata": {},
   "source": [
    "#### Question 9a"
   ]
  },
  {
   "cell_type": "code",
   "execution_count": 397,
   "id": "ce87c8e6",
   "metadata": {},
   "outputs": [
    {
     "data": {
      "text/plain": [
       "['quick', 'brown', 'jumps', 'over', 'lazy']"
      ]
     },
     "execution_count": 397,
     "metadata": {},
     "output_type": "execute_result"
    }
   ],
   "source": [
    "fourOrMore = [word for word in words if len(word) >= 4]\n",
    "fourOrMore"
   ]
  },
  {
   "cell_type": "markdown",
   "id": "5a4abd2c",
   "metadata": {},
   "source": [
    "#### End Of Document"
   ]
  }
 ],
 "metadata": {
  "kernelspec": {
   "display_name": "Python 3 (ipykernel)",
   "language": "python",
   "name": "python3"
  },
  "language_info": {
   "codemirror_mode": {
    "name": "ipython",
    "version": 3
   },
   "file_extension": ".py",
   "mimetype": "text/x-python",
   "name": "python",
   "nbconvert_exporter": "python",
   "pygments_lexer": "ipython3",
   "version": "3.9.7"
  }
 },
 "nbformat": 4,
 "nbformat_minor": 5
}
